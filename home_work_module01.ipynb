{
 "cells": [
  {
   "cell_type": "markdown",
   "id": "10292659",
   "metadata": {},
   "source": [
    "# Initial Set up and imports"
   ]
  },
  {
   "cell_type": "code",
   "execution_count": null,
   "id": "442d7474",
   "metadata": {},
   "outputs": [],
   "source": [
    "!pip install fastparquet"
   ]
  },
  {
   "cell_type": "code",
   "execution_count": 2,
   "id": "cc8090ac",
   "metadata": {},
   "outputs": [],
   "source": [
    "import pandas as pd\n",
    "import seaborn as sns\n",
    "\n",
    "from sklearn.feature_extraction import DictVectorizer\n",
    "from sklearn.linear_model import LinearRegression\n",
    "from sklearn.linear_model import Lasso\n",
    "from sklearn.linear_model import Ridge\n",
    "\n",
    "from sklearn.metrics import mean_squared_error"
   ]
  },
  {
   "cell_type": "markdown",
   "id": "dd206232",
   "metadata": {},
   "source": [
    "# Reading Parquet to DataFrame"
   ]
  },
  {
   "cell_type": "code",
   "execution_count": 108,
   "id": "d739bac4",
   "metadata": {},
   "outputs": [],
   "source": [
    "def read_parquet(path, data_cleaning):\n",
    "    \n",
    "    # Read parquet\n",
    "    if path.endswith('.parquet'):\n",
    "        df = pd.read_parquet(path)\n",
    "        \n",
    "    if data_cleaning:\n",
    "        # Duration column\n",
    "        df['duration'] = df[\"dropOff_datetime\"] - df[\"pickup_datetime\"]\n",
    "        df['duration']=  df['duration'].apply(lambda td: td.total_seconds() / 60)\n",
    "        df = df[(df.duration >= 1) & (df.duration <= 60)]\n",
    "\n",
    "        # Nan values\n",
    "        df_temp = df\n",
    "        df['PUlocationID'] = df['PUlocationID'].fillna(-1)\n",
    "        df['DOlocationID'] = df['DOlocationID'].fillna(-1)\n",
    "        \n",
    "        # Fraction of cleaned (Nan) values\n",
    "        print('Fraction of cleaned (Nan) values for each column \\n :')\n",
    "        print( (1 - (df[df.PUlocationID != -1].count() / df_temp.PUlocationID.count()))*100)\n",
    "        df = df[(df.DOlocationID != -1) & (df.PUlocationID != -1)]\n",
    "    \n",
    "    # Return dataframe\n",
    "    return df"
   ]
  },
  {
   "cell_type": "code",
   "execution_count": 79,
   "id": "7101ea93",
   "metadata": {},
   "outputs": [
    {
     "name": "stdout",
     "output_type": "stream",
     "text": [
      "<class 'pandas.core.frame.DataFrame'>\n",
      "RangeIndex: 1154112 entries, 0 to 1154111\n",
      "Data columns (total 7 columns):\n",
      " #   Column                  Non-Null Count    Dtype         \n",
      "---  ------                  --------------    -----         \n",
      " 0   dispatching_base_num    1154112 non-null  object        \n",
      " 1   pickup_datetime         1154112 non-null  datetime64[ns]\n",
      " 2   dropOff_datetime        1154112 non-null  datetime64[ns]\n",
      " 3   PUlocationID            195845 non-null   float64       \n",
      " 4   DOlocationID            991892 non-null   float64       \n",
      " 5   SR_Flag                 0 non-null        float64       \n",
      " 6   Affiliated_base_number  1153227 non-null  object        \n",
      "dtypes: datetime64[ns](2), float64(3), object(2)\n",
      "memory usage: 61.6+ MB\n"
     ]
    }
   ],
   "source": [
    "# Number of entries in january dataframe\n",
    "df = read_parquet('../data/fhv_tripdata_2021-01.parquet',False)\n",
    "df.info()"
   ]
  },
  {
   "cell_type": "code",
   "execution_count": 109,
   "id": "68b5d500",
   "metadata": {},
   "outputs": [
    {
     "name": "stdout",
     "output_type": "stream",
     "text": [
      "Fraction of cleaned (Nan) values for each column \n",
      " :\n",
      "dispatching_base_num       83.527328\n",
      "pickup_datetime            83.527328\n",
      "dropOff_datetime           83.527328\n",
      "PUlocationID               83.527328\n",
      "DOlocationID               83.527328\n",
      "SR_Flag                   100.000000\n",
      "Affiliated_base_number     83.527328\n",
      "duration                   83.527328\n",
      "dtype: float64\n",
      "Fraction of cleaned (Nan) values for each column \n",
      " :\n",
      "dispatching_base_num       85.71355\n",
      "pickup_datetime            85.71355\n",
      "dropOff_datetime           85.71355\n",
      "PUlocationID               85.71355\n",
      "DOlocationID               85.71355\n",
      "SR_Flag                   100.00000\n",
      "Affiliated_base_number     85.71355\n",
      "duration                   85.71355\n",
      "dtype: float64\n"
     ]
    }
   ],
   "source": [
    "df_train = read_parquet('../data/fhv_tripdata_2021-01.parquet', True)\n",
    "df_val = read_parquet('../data/fhv_tripdata_2021-02.parquet', True)"
   ]
  },
  {
   "cell_type": "code",
   "execution_count": 81,
   "id": "067c9725",
   "metadata": {},
   "outputs": [
    {
     "name": "stdout",
     "output_type": "stream",
     "text": [
      "<class 'pandas.core.frame.DataFrame'>\n",
      "Int64Index: 171670 entries, 39 to 1154110\n",
      "Data columns (total 8 columns):\n",
      " #   Column                  Non-Null Count   Dtype         \n",
      "---  ------                  --------------   -----         \n",
      " 0   dispatching_base_num    171670 non-null  object        \n",
      " 1   pickup_datetime         171670 non-null  datetime64[ns]\n",
      " 2   dropOff_datetime        171670 non-null  datetime64[ns]\n",
      " 3   PUlocationID            171670 non-null  float64       \n",
      " 4   DOlocationID            171670 non-null  float64       \n",
      " 5   SR_Flag                 0 non-null       float64       \n",
      " 6   Affiliated_base_number  171670 non-null  object        \n",
      " 7   duration                171670 non-null  float64       \n",
      "dtypes: datetime64[ns](2), float64(4), object(2)\n",
      "memory usage: 11.8+ MB\n"
     ]
    }
   ],
   "source": [
    "df_train.info()"
   ]
  },
  {
   "cell_type": "code",
   "execution_count": 82,
   "id": "6780265c",
   "metadata": {},
   "outputs": [
    {
     "name": "stdout",
     "output_type": "stream",
     "text": [
      "<class 'pandas.core.frame.DataFrame'>\n",
      "Int64Index: 129032 entries, 1 to 1037691\n",
      "Data columns (total 8 columns):\n",
      " #   Column                  Non-Null Count   Dtype         \n",
      "---  ------                  --------------   -----         \n",
      " 0   dispatching_base_num    129032 non-null  object        \n",
      " 1   pickup_datetime         129032 non-null  datetime64[ns]\n",
      " 2   dropOff_datetime        129032 non-null  datetime64[ns]\n",
      " 3   PUlocationID            129032 non-null  float64       \n",
      " 4   DOlocationID            129032 non-null  float64       \n",
      " 5   SR_Flag                 0 non-null       float64       \n",
      " 6   Affiliated_base_number  129032 non-null  object        \n",
      " 7   duration                129032 non-null  float64       \n",
      "dtypes: datetime64[ns](2), float64(4), object(2)\n",
      "memory usage: 8.9+ MB\n"
     ]
    }
   ],
   "source": [
    "df_val.info()"
   ]
  },
  {
   "cell_type": "code",
   "execution_count": 84,
   "id": "01260124",
   "metadata": {},
   "outputs": [
    {
     "data": {
      "text/plain": [
       "19.107061319198365"
      ]
     },
     "execution_count": 84,
     "metadata": {},
     "output_type": "execute_result"
    }
   ],
   "source": [
    "df_train.duration.mean()"
   ]
  },
  {
   "cell_type": "code",
   "execution_count": 85,
   "id": "079936df",
   "metadata": {},
   "outputs": [
    {
     "name": "stderr",
     "output_type": "stream",
     "text": [
      "/home/sifax/www/mlops-zoomcamp/env/lib/python3.10/site-packages/seaborn/distributions.py:2619: FutureWarning: `distplot` is a deprecated function and will be removed in a future version. Please adapt your code to use either `displot` (a figure-level function with similar flexibility) or `histplot` (an axes-level function for histograms).\n",
      "  warnings.warn(msg, FutureWarning)\n"
     ]
    },
    {
     "data": {
      "text/plain": [
       "<AxesSubplot:xlabel='duration', ylabel='Density'>"
      ]
     },
     "execution_count": 85,
     "metadata": {},
     "output_type": "execute_result"
    },
    {
     "data": {
      "image/png": "[encoded data removed]",
      "text/plain": [
       "<Figure size 432x288 with 1 Axes>"
      ]
     },
     "metadata": {
      "needs_background": "light"
     },
     "output_type": "display_data"
    }
   ],
   "source": [
    "sns.distplot(df_train.duration)"
   ]
  },
  {
   "cell_type": "code",
   "execution_count": 88,
   "id": "cb9fb9bc",
   "metadata": {},
   "outputs": [
    {
     "data": {
      "text/plain": [
       "(171670, 129032)"
      ]
     },
     "execution_count": 88,
     "metadata": {},
     "output_type": "execute_result"
    }
   ],
   "source": [
    "len(df_train), len(df_val)"
   ]
  },
  {
   "cell_type": "markdown",
   "id": "e14ebf40",
   "metadata": {},
   "source": [
    "# Building The Model"
   ]
  },
  {
   "cell_type": "code",
   "execution_count": 89,
   "id": "d09ec5a3",
   "metadata": {},
   "outputs": [],
   "source": [
    "# Training and Validation sets\n",
    "\n",
    "categorical = ['PUlocationID', 'DOlocationID']\n",
    "\n",
    "dv = DictVectorizer()\n",
    "\n",
    "# training\n",
    "train_dicts = df_train[categorical].to_dict(orient='records')\n",
    "X_train = dv.fit_transform(train_dicts)\n",
    "\n",
    "# Validation\n",
    "val_dicts = df_val[categorical].to_dict(orient='records')\n",
    "X_val = dv.transform(val_dicts)"
   ]
  },
  {
   "cell_type": "code",
   "execution_count": 97,
   "id": "8fcd70b2",
   "metadata": {},
   "outputs": [
    {
     "data": {
      "text/plain": [
       "((171670, 2), (129032, 2))"
      ]
     },
     "execution_count": 97,
     "metadata": {},
     "output_type": "execute_result"
    }
   ],
   "source": [
    "#Dimensionality after OHE\n",
    "X_train.shape, X_val.shape"
   ]
  },
  {
   "cell_type": "code",
   "execution_count": 90,
   "id": "3ae888ce",
   "metadata": {},
   "outputs": [],
   "source": [
    "target = 'duration'\n",
    "y_train = df_train[target].values\n",
    "y_val = df_val[target].values"
   ]
  },
  {
   "cell_type": "code",
   "execution_count": 91,
   "id": "12362394",
   "metadata": {},
   "outputs": [
    {
     "data": {
      "text/plain": [
       "12.738863762359012"
      ]
     },
     "execution_count": 91,
     "metadata": {},
     "output_type": "execute_result"
    }
   ],
   "source": [
    "#RMSE on Train dataset\n",
    "\n",
    "lr = LinearRegression()\n",
    "lr.fit(X_train, y_train)\n",
    "\n",
    "y_pred = lr.predict(X_train)\n",
    "\n",
    "mean_squared_error(y_train, y_pred, squared=False)"
   ]
  },
  {
   "cell_type": "code",
   "execution_count": 92,
   "id": "69c4ca81",
   "metadata": {},
   "outputs": [
    {
     "data": {
      "text/plain": [
       "13.153084025977014"
      ]
     },
     "execution_count": 92,
     "metadata": {},
     "output_type": "execute_result"
    }
   ],
   "source": [
    "#RMSE on Val dataset\n",
    "\n",
    "y_pred = lr.predict(X_val)\n",
    "\n",
    "mean_squared_error(y_val, y_pred, squared=False)\n"
   ]
  }
 ],
 "metadata": {
  "kernelspec": {
   "display_name": "Python 3 (ipykernel)",
   "language": "python",
   "name": "python3"
  },
  "language_info": {
   "codemirror_mode": {
    "name": "ipython",
    "version": 3
   },
   "file_extension": ".py",
   "mimetype": "text/x-python",
   "name": "python",
   "nbconvert_exporter": "python",
   "pygments_lexer": "ipython3",
   "version": "3.10.4"
  }
 },
 "nbformat": 4,
 "nbformat_minor": 5
}
